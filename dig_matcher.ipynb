{
 "cells": [
  {
   "cell_type": "code",
   "execution_count": null,
   "metadata": {},
   "outputs": [],
   "source": [
    "import torch\n",
    "import matplotlib.pyplot as plt\n",
    "from nerfstudio.utils.eval_utils import eval_setup\n",
    "from pathlib import Path\n",
    "import numpy as np\n",
    "# config = Path(\"outputs/garfield_plushie/dig/2024-02-27_144117/config.yml\")#pca 64\n",
    "# config = Path(\"outputs/garfield_plushie/dig/2024-02-27_163355/config.yml\")#pca 128\n",
    "# config = Path(\"outputs/garfield_plushie/dig/2024-02-27_164651/config.yml\")#v2 128 dim\n",
    "config = Path(\"outputs/garfield_plushie/dig/2024-02-27_170339/config.yml\")##v2 128 dim, 7stride\n",
    "_,pipeline,_,_ = eval_setup(config)\n",
    "dino_loader = pipeline.datamanager.dino_dataloader\n"
   ]
  },
  {
   "cell_type": "code",
   "execution_count": null,
   "metadata": {},
   "outputs": [],
   "source": [
    "from PIL import Image\n",
    "from torchvision.transforms import ToTensor\n",
    "import moviepy.editor as mpy\n",
    "# image_path = Path(\"/home/justin/nerfstudio/data/garfield_plushie/images/frame_00100.png\")\n",
    "video_path = Path(\"/home/justin/Downloads/garfield_move.mp4\")\n",
    "clip = mpy.VideoFileClip(str(video_path))\n",
    "#print length of video in seconds\n",
    "frame = clip.get_frame(7.2)\n",
    "frame = frame[300:1000,600:1300,:]\n",
    "pil_image = ToTensor()(Image.fromarray(frame))\n",
    "\n",
    "# image_path = Path(\"/home/justin/nerfstudio/data/colorful_mugs_colmap/images/frame_00010.jpg\")\n",
    "# image_path = Path(\"/home/justin/nerfstudio/data/louvre_statue/images/frame_00020.png\")\n",
    "# pil_image = ToTensor()(Image.open(image_path))\n",
    "img_pca_feats = dino_loader.get_pca_feats(pil_image.unsqueeze(0)).cuda().squeeze()\n",
    "cam,data = pipeline.datamanager.next_train(0)\n",
    "outputs = pipeline.model.get_outputs_for_camera(cam)\n",
    "which_to_rgb_pca = torch.cat([outputs['dino'].view(-1,img_pca_feats.shape[-1]),img_pca_feats.view(-1,img_pca_feats.shape[-1])],dim=0)\n",
    "_,_,rgb_pca = torch.pca_lowrank(which_to_rgb_pca.view(-1,which_to_rgb_pca.shape[-1]), q=3, niter=20)\n",
    "from nerfstudio.utils.colormaps import apply_pca_colormap\n",
    "_,axs = plt.subplots(1,4,figsize=(20,10))\n",
    "axs[0].imshow(pil_image.permute(1,2,0).cpu().numpy())\n",
    "axs[1].imshow(data[\"image\"].cpu().numpy())\n",
    "axs[2].imshow(apply_pca_colormap(img_pca_feats,rgb_pca).cpu().numpy())\n",
    "axs[3].imshow(apply_pca_colormap(outputs[\"dino\"],rgb_pca).cpu().numpy())\n",
    "plt.show()"
   ]
  },
  {
   "cell_type": "code",
   "execution_count": null,
   "metadata": {},
   "outputs": [],
   "source": [
    "pix_coords = [(20,65),(100,65),(80,60),(70,40)]\n",
    "pix_matches = []\n",
    "for pc in pix_coords:\n",
    "    img_pca_feat = img_pca_feats[pc[0],pc[1],:]\n",
    "    distance_img = (outputs['dino'] - img_pca_feat).pow(2).sum(dim=-1).sqrt()[...,None]\n",
    "    argmin = torch.argmin(distance_img).cpu().numpy()\n",
    "    argmin_coords = (argmin//distance_img.shape[1],argmin%distance_img.shape[1])\n",
    "    pix_matches.append(argmin_coords)\n",
    "_,axs = plt.subplots(1,2,figsize=(20,10))\n",
    "#visualize the input click on the original image\n",
    "axs[0].imshow(apply_pca_colormap(img_pca_feats,rgb_pca).cpu().numpy())\n",
    "axs[1].imshow(apply_pca_colormap(outputs[\"dino\"],rgb_pca).cpu().numpy())\n",
    "for i in range(len(pix_matches)):\n",
    "    color = np.random.rand(3)\n",
    "    axs[0].scatter(pix_coords[i][1],pix_coords[i][0],c=color,s=300)\n",
    "    axs[1].scatter(pix_matches[i][1],pix_matches[i][0],c=color,s=300)\n",
    "plt.show()"
   ]
  },
  {
   "cell_type": "code",
   "execution_count": null,
   "metadata": {},
   "outputs": [],
   "source": []
  }
 ],
 "metadata": {
  "kernelspec": {
   "display_name": "nerfstudio",
   "language": "python",
   "name": "python3"
  },
  "language_info": {
   "codemirror_mode": {
    "name": "ipython",
    "version": 3
   },
   "file_extension": ".py",
   "mimetype": "text/x-python",
   "name": "python",
   "nbconvert_exporter": "python",
   "pygments_lexer": "ipython3",
   "version": "3.10.13"
  },
  "orig_nbformat": 4
 },
 "nbformat": 4,
 "nbformat_minor": 2
}
